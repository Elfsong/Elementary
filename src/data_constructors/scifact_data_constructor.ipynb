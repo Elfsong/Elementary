{
 "cells": [
  {
   "cell_type": "code",
   "execution_count": null,
   "metadata": {},
   "outputs": [],
   "source": [
    "with open(data_path, 'r') as data_f:\n",
    "    for line in tqdm(data_f.readlines()):\n",
    "        json_instance = json.loads(line)\n",
    "        self.train_coordinate(json_instance)"
   ]
  }
 ],
 "metadata": {
  "language_info": {
   "name": "python"
  },
  "orig_nbformat": 4
 },
 "nbformat": 4,
 "nbformat_minor": 2
}
